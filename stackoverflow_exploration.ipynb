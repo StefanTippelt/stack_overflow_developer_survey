{
 "cells": [
  {
   "cell_type": "markdown",
   "metadata": {},
   "source": [
    "# The 3 most important facts about data scientists - a data informed approach\n",
    "\n",
    "The **[Stack Overflow's Developer Survey](https://insights.stackoverflow.com/survey/2019)** is the largest survey where developers from all over the world answer questions about their jobs. I was curious if we could learn anything about the field of Data Science by taking a closer look at the responses.\n",
    "\n",
    "\n",
    "### My main questions were:\n",
    "\n",
    "1. [Which job titles are closest to the one of a `Data Scientist`?](#closest_job_titles)\n",
    "- [What tools are most important for `Data Scientists`?](#tools)\n",
    "- [Are `Data Scientists` happier in their jobs than other developers?](#happy)"
   ]
  },
  {
   "cell_type": "code",
   "execution_count": 1,
   "metadata": {
    "colab": {
     "base_uri": "https://localhost:8080/",
     "height": 122
    },
    "colab_type": "code",
    "id": "5PPMx7eJuE-I",
    "outputId": "d1c5f4b7-c19e-49f6-f8b1-93e0ea34fc33"
   },
   "outputs": [],
   "source": [
    "import matplotlib.pyplot as plt\n",
    "import numpy as np\n",
    "import pandas as pd\n",
    "import seaborn as sns\n",
    "\n",
    "from scipy.stats import levene\n",
    "from scipy.stats import ttest_ind"
   ]
  },
  {
   "cell_type": "markdown",
   "metadata": {},
   "source": [
    "## Data preprocessing\n",
    "\n",
    "From the raw file of reponses following preprocessing steps have been done:\n",
    "\n",
    "```python\n",
    "file_path = 'raw_data/survey_results_public.csv'\n",
    "\n",
    "raw_df = pd.read_csv(file_path)\n",
    "\n",
    "keep_cols = [\n",
    "     \"LanguageWorkedWith\",\n",
    "     \"DatabaseWorkedWith\",\n",
    "     \"PlatformWorkedWith\",\n",
    "     \"WebFrameWorkedWith\",\n",
    "     \"MiscTechWorkedWith\",\n",
    "     \"JobSat\",\n",
    "     \"DevType\",\n",
    "     ]\n",
    "\n",
    "filtered_df = raw_df[keep_cols]\n",
    "\n",
    "nan_devtype_pre = filtered_df[\"DevType\"].isnull().sum()\n",
    "\n",
    "# only keep rows where `DevType` is filled\n",
    "filtered_df = filtered_df.dropna(axis=\"index\", subset=[\"DevType\"])\n",
    "nan_devtype_after = filtered_df[\"DevType\"].isnull().sum()\n",
    "print(f\"removed {nan_devtype_pre - nan_devtype_after} observations from analysis\")\n",
    "\n",
    "# Create column with flag when `DevType` contains `Data scientist or machine learning specialist`\n",
    "filtered_df['is_data_scientist'] = filtered_df[\"DevType\"].str.contains(\"Data scientist or machine learning specialist\")\n",
    "\n",
    "filtered_df.to_csv('raw_data/survey_results_public_data_scientists.csv', index=False)\n",
    "```"
   ]
  },
  {
   "cell_type": "code",
   "execution_count": 2,
   "metadata": {
    "colab": {
     "base_uri": "https://localhost:8080/",
     "height": 763
    },
    "colab_type": "code",
    "id": "xnfGMgx2vgZj",
    "outputId": "b189ba84-fd37-4f3e-a162-1cd0f9d7dee9"
   },
   "outputs": [
    {
     "data": {
      "text/html": [
       "<div>\n",
       "<style scoped>\n",
       "    .dataframe tbody tr th:only-of-type {\n",
       "        vertical-align: middle;\n",
       "    }\n",
       "\n",
       "    .dataframe tbody tr th {\n",
       "        vertical-align: top;\n",
       "    }\n",
       "\n",
       "    .dataframe thead th {\n",
       "        text-align: right;\n",
       "    }\n",
       "</style>\n",
       "<table border=\"1\" class=\"dataframe\">\n",
       "  <thead>\n",
       "    <tr style=\"text-align: right;\">\n",
       "      <th></th>\n",
       "      <th>LanguageWorkedWith</th>\n",
       "      <th>DatabaseWorkedWith</th>\n",
       "      <th>PlatformWorkedWith</th>\n",
       "      <th>WebFrameWorkedWith</th>\n",
       "      <th>MiscTechWorkedWith</th>\n",
       "      <th>JobSat</th>\n",
       "      <th>DevType</th>\n",
       "      <th>is_data_scientist</th>\n",
       "    </tr>\n",
       "  </thead>\n",
       "  <tbody>\n",
       "    <tr>\n",
       "      <th>0</th>\n",
       "      <td>C++;HTML/CSS;Python</td>\n",
       "      <td>NaN</td>\n",
       "      <td>Windows</td>\n",
       "      <td>Django</td>\n",
       "      <td>NaN</td>\n",
       "      <td>NaN</td>\n",
       "      <td>Developer, desktop or enterprise applications;...</td>\n",
       "      <td>False</td>\n",
       "    </tr>\n",
       "    <tr>\n",
       "      <th>1</th>\n",
       "      <td>HTML/CSS</td>\n",
       "      <td>PostgreSQL</td>\n",
       "      <td>NaN</td>\n",
       "      <td>NaN</td>\n",
       "      <td>NaN</td>\n",
       "      <td>Slightly satisfied</td>\n",
       "      <td>Designer;Developer, back-end;Developer, front-...</td>\n",
       "      <td>False</td>\n",
       "    </tr>\n",
       "    <tr>\n",
       "      <th>2</th>\n",
       "      <td>C;C++;C#;Python;SQL</td>\n",
       "      <td>MySQL;SQLite</td>\n",
       "      <td>Linux;Windows</td>\n",
       "      <td>NaN</td>\n",
       "      <td>.NET</td>\n",
       "      <td>Slightly satisfied</td>\n",
       "      <td>Developer, full-stack</td>\n",
       "      <td>False</td>\n",
       "    </tr>\n",
       "    <tr>\n",
       "      <th>3</th>\n",
       "      <td>C++;HTML/CSS;Java;JavaScript;Python;SQL;VBA</td>\n",
       "      <td>Couchbase;MongoDB;MySQL;Oracle;PostgreSQL;SQLite</td>\n",
       "      <td>Android;Linux;MacOS;Slack;Windows</td>\n",
       "      <td>Django;Express;Flask;jQuery;React.js;Spring</td>\n",
       "      <td>Cordova;Node.js</td>\n",
       "      <td>Slightly dissatisfied</td>\n",
       "      <td>Academic researcher;Developer, desktop or ente...</td>\n",
       "      <td>False</td>\n",
       "    </tr>\n",
       "    <tr>\n",
       "      <th>4</th>\n",
       "      <td>Java;R;SQL</td>\n",
       "      <td>MongoDB;PostgreSQL</td>\n",
       "      <td>Android;Google Cloud Platform;Linux;Windows</td>\n",
       "      <td>NaN</td>\n",
       "      <td>Hadoop</td>\n",
       "      <td>Slightly satisfied</td>\n",
       "      <td>Data or business analyst;Data scientist or mac...</td>\n",
       "      <td>True</td>\n",
       "    </tr>\n",
       "  </tbody>\n",
       "</table>\n",
       "</div>"
      ],
      "text/plain": [
       "                            LanguageWorkedWith  \\\n",
       "0                          C++;HTML/CSS;Python   \n",
       "1                                     HTML/CSS   \n",
       "2                          C;C++;C#;Python;SQL   \n",
       "3  C++;HTML/CSS;Java;JavaScript;Python;SQL;VBA   \n",
       "4                                   Java;R;SQL   \n",
       "\n",
       "                                 DatabaseWorkedWith  \\\n",
       "0                                               NaN   \n",
       "1                                        PostgreSQL   \n",
       "2                                      MySQL;SQLite   \n",
       "3  Couchbase;MongoDB;MySQL;Oracle;PostgreSQL;SQLite   \n",
       "4                                MongoDB;PostgreSQL   \n",
       "\n",
       "                            PlatformWorkedWith  \\\n",
       "0                                      Windows   \n",
       "1                                          NaN   \n",
       "2                                Linux;Windows   \n",
       "3            Android;Linux;MacOS;Slack;Windows   \n",
       "4  Android;Google Cloud Platform;Linux;Windows   \n",
       "\n",
       "                            WebFrameWorkedWith MiscTechWorkedWith  \\\n",
       "0                                       Django                NaN   \n",
       "1                                          NaN                NaN   \n",
       "2                                          NaN               .NET   \n",
       "3  Django;Express;Flask;jQuery;React.js;Spring    Cordova;Node.js   \n",
       "4                                          NaN             Hadoop   \n",
       "\n",
       "                  JobSat                                            DevType  \\\n",
       "0                    NaN  Developer, desktop or enterprise applications;...   \n",
       "1     Slightly satisfied  Designer;Developer, back-end;Developer, front-...   \n",
       "2     Slightly satisfied                              Developer, full-stack   \n",
       "3  Slightly dissatisfied  Academic researcher;Developer, desktop or ente...   \n",
       "4     Slightly satisfied  Data or business analyst;Data scientist or mac...   \n",
       "\n",
       "   is_data_scientist  \n",
       "0              False  \n",
       "1              False  \n",
       "2              False  \n",
       "3              False  \n",
       "4               True  "
      ]
     },
     "execution_count": 2,
     "metadata": {},
     "output_type": "execute_result"
    }
   ],
   "source": [
    "# read stack overflow survey data from file\n",
    "file_path = 'raw_data/survey_results_public_data_scientists.csv'\n",
    "\n",
    "df = pd.read_csv(file_path)\n",
    "df.head()"
   ]
  },
  {
   "cell_type": "code",
   "execution_count": 3,
   "metadata": {},
   "outputs": [],
   "source": [
    "def split_str_to_list(\n",
    "    df: pd.DataFrame, col: str, delimiter: str = \";\"\n",
    ") -> pd.DataFrame:\n",
    "    \"\"\"Split string column to list using delimiter.\n",
    "\n",
    "    Parameters\n",
    "    ----------\n",
    "    df: pd.DataFrame\n",
    "        Dataframe to be processed\n",
    "    col: string\n",
    "        String column to split to list\n",
    "    delimiter: string\n",
    "        Delimiter of string column\n",
    "\n",
    "    Returns\n",
    "    -------\n",
    "    pd.DataFrame\n",
    "        Dataframe containing additional columns with lists prefixed by `list_`\n",
    "    \"\"\"\n",
    "    list_col = \"list_\" + col\n",
    "    df[list_col] = df[col].str.split(delimiter)\n",
    "    return df"
   ]
  },
  {
   "cell_type": "code",
   "execution_count": 5,
   "metadata": {},
   "outputs": [],
   "source": [
    "# columns containing multiple entries as strings\n",
    "cols = [\n",
    "    \"DevType\", \n",
    "    \"LanguageWorkedWith\",\n",
    "    \"DatabaseWorkedWith\",\n",
    "    \"PlatformWorkedWith\",\n",
    "    \"WebFrameWorkedWith\",\n",
    "    \"MiscTechWorkedWith\",\n",
    "]\n",
    "\n",
    "for col in cols:\n",
    "    split_str_to_list(df=df, col=col, delimiter=';')"
   ]
  },
  {
   "cell_type": "code",
   "execution_count": 6,
   "metadata": {
    "colab": {
     "base_uri": "https://localhost:8080/",
     "height": 82
    },
    "colab_type": "code",
    "id": "pdGruNI7efa9",
    "outputId": "0187bf88-ec2a-40ad-e6c6-05e5256faef1"
   },
   "outputs": [
    {
     "name": "stdout",
     "output_type": "stream",
     "text": [
      "How many individuals say they are `Data scientist or machine learning specialist`?\n",
      "\n",
      "Out of 81335 respondents, 6460 say they are `Data scientist or machine learning specialist`.\n",
      "This is a share of 7.9%\n"
     ]
    }
   ],
   "source": [
    "# create dataframe with only `data scientists or machine learning specialists`\n",
    "ds_df = df.query('is_data_scientist == True').copy()\n",
    "\n",
    "# all respondents of survey\n",
    "n = len(df) #81335\n",
    "n_ds = len(ds_df)\n",
    "\n",
    "print(\"How many individuals say they are `Data scientist or machine learning specialist`?\\n\")\n",
    "\n",
    "print(\n",
    "    f\"Out of {n} respondents, {n_ds} say they are `Data scientist \"\n",
    "    f\"or machine learning specialist`.\\n\"\n",
    "    f\"This is a share of {n_ds/n:.1%}\"\n",
    "    )"
   ]
  },
  {
   "cell_type": "markdown",
   "metadata": {
    "colab_type": "text",
    "id": "HtRG7Fkn0E4L"
   },
   "source": [
    "<a id='closest_job_titles'></a>\n",
    "\n",
    "## 1) Which job titles are closest to the one of a `Data Scientist`?"
   ]
  },
  {
   "cell_type": "code",
   "execution_count": 7,
   "metadata": {
    "colab": {},
    "colab_type": "code",
    "id": "GA4ykhVban7m"
   },
   "outputs": [],
   "source": [
    "def get_share_df(df: pd.DataFrame, col: str) -> pd.DataFrame:\n",
    "    \"\"\"Get shares of dataframe column.\n",
    "\n",
    "    Parameters\n",
    "    ----------\n",
    "    df: pd.DataFrame\n",
    "        Dataframe to be processed\n",
    "    col: string\n",
    "        Column to calculate share of total\n",
    "\n",
    "    Returns\n",
    "    -------\n",
    "    pd.DataFrame\n",
    "        Dataframe for plotting of shares\n",
    "    \"\"\"\n",
    "    sample_cnt = len(df)\n",
    "    \n",
    "    tmp_df = df[col].apply(pd.Series).stack()\n",
    "    share_df = tmp_df.value_counts().to_frame().rename(columns={0: \"cnt\"})\n",
    "    share_df[\"share\"] = share_df[\"cnt\"] / sample_cnt\n",
    "    share_df[\"metric\"] = col\n",
    "    share_df = share_df.reset_index().rename(columns={\"index\": \"description\"})\n",
    "    \n",
    "    return share_df"
   ]
  },
  {
   "cell_type": "code",
   "execution_count": 8,
   "metadata": {
    "colab": {
     "base_uri": "https://localhost:8080/",
     "height": 191
    },
    "colab_type": "code",
    "id": "B2FNURXI3qiX",
    "outputId": "8f0a9e4f-5452-431e-876a-fb9b1e4ec582"
   },
   "outputs": [
    {
     "data": {
      "text/html": [
       "<div>\n",
       "<style scoped>\n",
       "    .dataframe tbody tr th:only-of-type {\n",
       "        vertical-align: middle;\n",
       "    }\n",
       "\n",
       "    .dataframe tbody tr th {\n",
       "        vertical-align: top;\n",
       "    }\n",
       "\n",
       "    .dataframe thead th {\n",
       "        text-align: right;\n",
       "    }\n",
       "</style>\n",
       "<table border=\"1\" class=\"dataframe\">\n",
       "  <thead>\n",
       "    <tr style=\"text-align: right;\">\n",
       "      <th></th>\n",
       "      <th>description</th>\n",
       "      <th>cnt</th>\n",
       "      <th>share</th>\n",
       "      <th>metric</th>\n",
       "    </tr>\n",
       "  </thead>\n",
       "  <tbody>\n",
       "    <tr>\n",
       "      <th>1</th>\n",
       "      <td>Developer, back-end</td>\n",
       "      <td>3075</td>\n",
       "      <td>0.476006</td>\n",
       "      <td>list_DevType</td>\n",
       "    </tr>\n",
       "    <tr>\n",
       "      <th>2</th>\n",
       "      <td>Developer, full-stack</td>\n",
       "      <td>2445</td>\n",
       "      <td>0.378483</td>\n",
       "      <td>list_DevType</td>\n",
       "    </tr>\n",
       "    <tr>\n",
       "      <th>3</th>\n",
       "      <td>Data or business analyst</td>\n",
       "      <td>2079</td>\n",
       "      <td>0.321827</td>\n",
       "      <td>list_DevType</td>\n",
       "    </tr>\n",
       "    <tr>\n",
       "      <th>4</th>\n",
       "      <td>Academic researcher</td>\n",
       "      <td>1874</td>\n",
       "      <td>0.290093</td>\n",
       "      <td>list_DevType</td>\n",
       "    </tr>\n",
       "    <tr>\n",
       "      <th>5</th>\n",
       "      <td>Engineer, data</td>\n",
       "      <td>1872</td>\n",
       "      <td>0.289783</td>\n",
       "      <td>list_DevType</td>\n",
       "    </tr>\n",
       "  </tbody>\n",
       "</table>\n",
       "</div>"
      ],
      "text/plain": [
       "                description   cnt     share        metric\n",
       "1       Developer, back-end  3075  0.476006  list_DevType\n",
       "2     Developer, full-stack  2445  0.378483  list_DevType\n",
       "3  Data or business analyst  2079  0.321827  list_DevType\n",
       "4       Academic researcher  1874  0.290093  list_DevType\n",
       "5            Engineer, data  1872  0.289783  list_DevType"
      ]
     },
     "execution_count": 8,
     "metadata": {},
     "output_type": "execute_result"
    }
   ],
   "source": [
    "other_dev_types = get_share_df(df=ds_df, col=\"list_DevType\").iloc[1:]\n",
    "other_dev_types.head()"
   ]
  },
  {
   "cell_type": "code",
   "execution_count": 25,
   "metadata": {
    "colab": {},
    "colab_type": "code",
    "id": "ZBQq8p8l_KPw"
   },
   "outputs": [],
   "source": [
    "def plot_shares(x: str, y: str, title: str, color: str) -> None:\n",
    "    \"\"\"Plot shares as bar plot.\n",
    "    \n",
    "    Parameters\n",
    "    ----------\n",
    "    x: string\n",
    "        `x` values to plot\n",
    "    y: string\n",
    "        `y` values to plot\n",
    "    title: string\n",
    "        Chart title\n",
    "    color: string\n",
    "        Color of chart\n",
    "\n",
    "    Returns\n",
    "    -------\n",
    "    None\n",
    "    \"\"\"\n",
    "    plot_args = {\"x\": x, \"y\": y, \"color\": color}\n",
    "    \n",
    "    ax = sns.barplot(**plot_args)\n",
    "    ax.set_xticklabels(labels=plot_args[\"x\"], rotation=90)\n",
    "    vals = ax.get_yticks()\n",
    "    ax.set_yticklabels([\"{:,.0%}\".format(y_val) for y_val in vals])\n",
    "    ax.set_title(title)\n",
    "    return None"
   ]
  },
  {
   "cell_type": "code",
   "execution_count": 26,
   "metadata": {
    "colab": {
     "base_uri": "https://localhost:8080/",
     "height": 502
    },
    "colab_type": "code",
    "id": "p5qBKEbjX4UD",
    "outputId": "1d83ea56-a4cb-4b13-c061-54514bc4cfd5"
   },
   "outputs": [
    {
     "data": {
      "image/png": "[encoded data removed]",
      "text/plain": [
       "<Figure size 432x288 with 1 Axes>"
      ]
     },
     "metadata": {
      "needs_background": "light"
     },
     "output_type": "display_data"
    }
   ],
   "source": [
    "plot_shares(\n",
    "    x=other_dev_types[\"description\"],\n",
    "    y=other_dev_types[\"share\"],\n",
    "    title=\"Other job descriptions mentioned by Data Scientists\",\n",
    "    color=\"g\",\n",
    ")"
   ]
  },
  {
   "cell_type": "markdown",
   "metadata": {
    "colab_type": "text",
    "id": "B2a0LR4H7UQ7"
   },
   "source": [
    "### Summary\n",
    "\n",
    "Most developers stating that they are data scientists also say that they are **back-end Developers**. Second most say they are **full-stack developers**, and on position 3 **Data or business analysts** claim that they are Data Scientists.\n",
    "Considering the high share of more then 7% of developers stating they are data scientists, it is questionable whether all respondents really spend the majority of their time with data scientist tasks. \n",
    "Nevertheless it gives some intuition that **back-end skills** and **full-stack skills** are very helpful to be effective as Data Scientist Practitioner. Data and business Analysts might on the other side be able to pick up deeper coding skills or work in cross-functional teems where they get help to put data science models into production."
   ]
  },
  {
   "cell_type": "markdown",
   "metadata": {
    "colab_type": "text",
    "id": "dTAJC7ac27z-"
   },
   "source": [
    "<a id='tools'></a>\n",
    "\n",
    "## 2) What are the most important Frameworks, Libraries, and Tools data scientists use?"
   ]
  },
  {
   "cell_type": "markdown",
   "metadata": {
    "colab_type": "text",
    "id": "_fZE4etA_bQP"
   },
   "source": [
    "Let's dive deeper into which **frameworks, libraries, and tools** Data Scientists use accordingly to the Stackoverflow developers survey. In the following I will show the 10 most used languages Data Scientists worked with, the databases they used, and wich web-frameworks they are familiar with and which other Technologies they use."
   ]
  },
  {
   "cell_type": "code",
   "execution_count": 19,
   "metadata": {
    "colab": {},
    "colab_type": "code",
    "id": "iG2B9tmtKt7g"
   },
   "outputs": [],
   "source": [
    "metrics = [\n",
    "    \"list_LanguageWorkedWith\",\n",
    "    \"list_DatabaseWorkedWith\",\n",
    "    \"list_PlatformWorkedWith\",\n",
    "    \"list_WebFrameWorkedWith\",\n",
    "    \"list_MiscTechWorkedWith\",\n",
    "]"
   ]
  },
  {
   "cell_type": "code",
   "execution_count": 20,
   "metadata": {
    "colab": {},
    "colab_type": "code",
    "id": "f-HAH2BeiDRl"
   },
   "outputs": [],
   "source": [
    "mydf = pd.DataFrame()\n",
    "\n",
    "for metric in metrics:\n",
    "    mydf = mydf.append(\n",
    "        get_share_df(df=ds_df, col=metric), ignore_index=True\n",
    "    )"
   ]
  },
  {
   "cell_type": "code",
   "execution_count": 22,
   "metadata": {
    "colab": {
     "base_uri": "https://localhost:8080/",
     "height": 1000
    },
    "colab_type": "code",
    "id": "WMhqTsOn-29f",
    "outputId": "dad8697f-4230-47a9-ac47-e852262fd441",
    "scrolled": false
   },
   "outputs": [
    {
     "data": {
      "image/png": "[encoded data removed]",
      "text/plain": [
       "<Figure size 432x288 with 1 Axes>"
      ]
     },
     "metadata": {
      "needs_background": "light"
     },
     "output_type": "display_data"
    },
    {
     "data": {
      "image/png": "[encoded data removed]",
      "text/plain": [
       "<Figure size 432x288 with 1 Axes>"
      ]
     },
     "metadata": {
      "needs_background": "light"
     },
     "output_type": "display_data"
    },
    {
     "data": {
      "image/png": "[encoded data removed]",
      "text/plain": [
       "<Figure size 432x288 with 1 Axes>"
      ]
     },
     "metadata": {
      "needs_background": "light"
     },
     "output_type": "display_data"
    },
    {
     "data": {
      "image/png": "[encoded data removed]",
      "text/plain": [
       "<Figure size 432x288 with 1 Axes>"
      ]
     },
     "metadata": {
      "needs_background": "light"
     },
     "output_type": "display_data"
    },
    {
     "data": {
      "image/png": "[encoded data removed]",
      "text/plain": [
       "<Figure size 432x288 with 1 Axes>"
      ]
     },
     "metadata": {
      "needs_background": "light"
     },
     "output_type": "display_data"
    }
   ],
   "source": [
    "for metric in metrics:\n",
    "    plot_shares(\n",
    "        x=mydf.query(\"metric == @metric\")[\"description\"][:10],\n",
    "        y=mydf.query(\"metric == @metric\")[\"share\"],\n",
    "        title=f\"Mostly mentioned {metric.replace('list_', '')}\",\n",
    "        color=\"g\",\n",
    "    )\n",
    "    plt.show()"
   ]
  },
  {
   "cell_type": "markdown",
   "metadata": {},
   "source": [
    "### Summary"
   ]
  },
  {
   "cell_type": "markdown",
   "metadata": {
    "colab_type": "text",
    "id": "lmrTyrAXsL1s"
   },
   "source": [
    "<a id='happy'></a>\n",
    "\n",
    "### 3) Are data scientists happier with their job than others?"
   ]
  },
  {
   "cell_type": "markdown",
   "metadata": {
    "colab_type": "text",
    "id": "lJIgzNUcBcyg"
   },
   "source": [
    "The last question to answer in this post is no matter how it is easiest to break into the field and no matter what tools they use - Is it acutally even worth the effort and are **Data Scientists happier with their job** than other developers?"
   ]
  },
  {
   "cell_type": "code",
   "execution_count": 4,
   "metadata": {
    "colab": {
     "base_uri": "https://localhost:8080/",
     "height": 66
    },
    "colab_type": "code",
    "id": "64P2wymjsQ8r",
    "outputId": "4bbbfb88-35fd-42ed-d6e4-b541ae98fd0c"
   },
   "outputs": [
    {
     "data": {
      "text/plain": [
       "[nan,\n",
       " 'Slightly satisfied',\n",
       " 'Slightly dissatisfied',\n",
       " 'Neither satisfied nor dissatisfied',\n",
       " 'Very satisfied',\n",
       " 'Very dissatisfied']"
      ]
     },
     "execution_count": 4,
     "metadata": {},
     "output_type": "execute_result"
    }
   ],
   "source": [
    "# check encoding of `Job Satisfaction`\n",
    "df[\"JobSat\"].unique().tolist()"
   ]
  },
  {
   "cell_type": "code",
   "execution_count": 6,
   "metadata": {
    "colab": {},
    "colab_type": "code",
    "id": "7vxtqYZtsW9v"
   },
   "outputs": [],
   "source": [
    "# encode strings to numbers\n",
    "job_satisfaction_mapping = {\n",
    "    \"Very dissatisfied\": 0,\n",
    "    \"Slightly dissatisfied\": 1,\n",
    "    \"Neither satisfied nor dissatisfied\": 2,\n",
    "    \"Slightly satisfied\": 3,\n",
    "    \"Very satisfied\": 4,\n",
    "}"
   ]
  },
  {
   "cell_type": "code",
   "execution_count": 7,
   "metadata": {
    "colab": {},
    "colab_type": "code",
    "id": "6O3zJ8MHtnCE"
   },
   "outputs": [],
   "source": [
    "# create column with mapping of strings to integers\n",
    "df[\"JobSatNumeric\"] = df[\"JobSat\"].map(\n",
    "    job_satisfaction_mapping, na_action=\"ignore\"\n",
    ")"
   ]
  },
  {
   "cell_type": "code",
   "execution_count": 46,
   "metadata": {},
   "outputs": [],
   "source": [
    "def get_test_stats(\n",
    "    df: pd.DataFrame,\n",
    "    independent_var: str = \"is_data_scientist\",\n",
    "    dependent_var: str = \"JobSatNumeric\",\n",
    ") -> dict:\n",
    "    \"\"\"Get test statistics `mean`, `standard deviation`, `sample size` and count\n",
    "    of `removed NaN values`.\n",
    "\n",
    "    Parameters\n",
    "    ----------\n",
    "    df: pd.DataFrame\n",
    "        Dataframe with reference and test values\n",
    "    independent_var: string\n",
    "        Independent variable\n",
    "    dependent_var: string\n",
    "        Dependent variable\n",
    "\n",
    "    Returns\n",
    "    -------\n",
    "    test_stats: dict\n",
    "        Test statistics for reference and test data set\n",
    "    \"\"\"\n",
    "    # split data into reference and test set\n",
    "    ref_w_na = df.query(f\"{independent_var} == False\")[dependent_var]\n",
    "    test_w_na = df.query(f\"{independent_var} == True\")[dependent_var]\n",
    "\n",
    "    # remove `NaN's`\n",
    "    ref = ref_w_na.dropna()\n",
    "    test = test_w_na.dropna()\n",
    "\n",
    "    descriptive_stats = df.groupby(dependent_var)[independent_var].agg(\n",
    "        [\"mean\", \"std\"]\n",
    "    )\n",
    "\n",
    "    test_stats = {\n",
    "        \"ref\": {\n",
    "            \"sample_size\": len(ref),\n",
    "            \"mean\": descriptive_stats.loc[False][\"mean\"],\n",
    "            \"std\": descriptive_stats.loc[False][\"std\"],\n",
    "            \"removed_nan\": len(ref_w_na) - len(ref),\n",
    "        },\n",
    "        \"test\": {\n",
    "            \"sample_size\": len(test),\n",
    "            \"mean\": descriptive_stats.loc[True][\"mean\"],\n",
    "            \"std\": descriptive_stats.loc[True][\"std\"],\n",
    "            \"removed_nan\": len(test_w_na) - len(test),\n",
    "        },\n",
    "    }\n",
    "\n",
    "    return test_stats"
   ]
  },
  {
   "cell_type": "code",
   "execution_count": 47,
   "metadata": {},
   "outputs": [],
   "source": [
    "test_stats = get_test_stats(\n",
    "    df=df,\n",
    "    dependent_var=\"is_data_scientist\",\n",
    "    independent_var=\"JobSatNumeric\",\n",
    ")"
   ]
  },
  {
   "cell_type": "code",
   "execution_count": 49,
   "metadata": {
    "colab": {
     "base_uri": "https://localhost:8080/",
     "height": 277
    },
    "colab_type": "code",
    "id": "Q6qSRF3DENIx",
    "outputId": "fcf287d4-960f-4d27-bb80-195aaf1d59f7"
   },
   "outputs": [
    {
     "name": "stdout",
     "output_type": "stream",
     "text": [
      "REFERENCE\n",
      "=========\n",
      "\n",
      "`NaN` values removed from analysis: 0\n",
      "Number of observations: 4740\n",
      "Mean: 2.68\n",
      "Standard deviation: 1.25\n",
      "\n",
      "\n",
      "TEST\n",
      "====\n",
      "\n",
      "`NaN` values removed from analysis: 0\n",
      "Number of observations: 10582\n",
      "Mean: 2.77\n",
      "Standard deviation: 1.24\n"
     ]
    }
   ],
   "source": [
    "test_stats = get_test_stats(\n",
    "    df=df,\n",
    "    dependent_var=\"is_data_scientist\",\n",
    "    independent_var=\"JobSatNumeric\",\n",
    ")\n",
    "\n",
    "print(\"REFERENCE\")\n",
    "print(\"=========\\n\")\n",
    "print(f\"`NaN` values removed from analysis: {test_stats['ref']['removed_nan']}\")\n",
    "\n",
    "print(f\"Number of observations: {test_stats['ref']['sample_size']}\")\n",
    "print(f\"Mean: {test_stats['ref']['mean']:.2f}\")\n",
    "print(f\"Standard deviation: {test_stats['ref']['std']:.2f}\")\n",
    "print(\"\\n\")\n",
    "\n",
    "print(\"TEST\")\n",
    "print(\"====\\n\")\n",
    "print(f\"`NaN` values removed from analysis: {test_stats['test']['removed_nan']}\")\n",
    "print(f\"Number of observations: {test_stats['test']['sample_size']}\")\n",
    "print(f\"Mean: {test_stats['test']['mean']:.2f}\")\n",
    "print(f\"Standard deviation: {test_stats['test']['std']:.2f}\")\n"
   ]
  },
  {
   "cell_type": "code",
   "execution_count": 24,
   "metadata": {
    "colab": {
     "base_uri": "https://localhost:8080/",
     "height": 310
    },
    "colab_type": "code",
    "id": "wloqxilNXc-l",
    "outputId": "8b8097f2-0266-4f21-fb4f-61887fc6a005"
   },
   "outputs": [],
   "source": [
    "def plot_ab_test() -> None:\n",
    "    \"\"\"Plot distribution of A/B test.\"\"\"\n",
    "    fig, ax1 = plt.subplots()\n",
    "    ax2 = ax1.twinx()\n",
    "\n",
    "    bins = np.arange(test.min() - 0.5, test.max() + 0.5)\n",
    "\n",
    "    # reference plots\n",
    "    sns.distplot(\n",
    "        ref,\n",
    "        color=\"#0d696b\",\n",
    "        hist_kws={\n",
    "            \"histtype\": \"stepfilled\",\n",
    "            \"linewidth\": 3,\n",
    "            \"alpha\": 0.8,\n",
    "            \"color\": \"#0d696b\",\n",
    "            \"edgecolor\": \"#0d0000\",\n",
    "        },\n",
    "        kde=False,\n",
    "        ax=ax1,\n",
    "        bins=bins,\n",
    "    )\n",
    "\n",
    "    sns.distplot(\n",
    "        ref,\n",
    "        color=\"#0d696b\",\n",
    "        hist=False,\n",
    "        ax=ax2,\n",
    "        kde_kws={\"bw\": 1},\n",
    "        label=\"ref distribution\",\n",
    "    )\n",
    "    # display reference mean value\n",
    "    ax1.axvline(ref_mean, color=\"#0d696b\", linestyle=\"--\", label=\"ref mean\")\n",
    "    \n",
    "    # test plots\n",
    "    sns.distplot(\n",
    "        test,\n",
    "        color=\"#f4b65c\",\n",
    "        hist_kws={\n",
    "            \"histtype\": \"stepfilled\",\n",
    "            \"linewidth\": 3,\n",
    "            \"alpha\": 0.8,\n",
    "            \"color\": \"#f4b65c\",\n",
    "            \"edgecolor\": \"#f49000\",\n",
    "        },\n",
    "        kde=False,\n",
    "        ax=ax1,\n",
    "        bins=bins,\n",
    "    )\n",
    "    \n",
    "    sns.distplot(\n",
    "        test,\n",
    "        color=\"#f4b65c\",\n",
    "        hist=False,\n",
    "        ax=ax2,\n",
    "        kde_kws={\"bw\": 1},\n",
    "        label=\"test distribution\",\n",
    "    )\n",
    "    # display test mean value    \n",
    "    ax1.axvline(test_mean, color=\"#f4b65c\", linestyle=\"--\", label=\"test mean\")\n",
    "    ax1.legend()\n",
    "    ax1.set_title(\"Distribution of reference and test data\", pad=20)\n",
    "    ax1.set_ylabel(\"Count\")\n",
    "    ax1.set_ylabel(\"Count\")\n",
    "    ax2.set_ylabel(\"Density\")\n",
    "    plt.rcParams[\"patch.force_edgecolor\"] = True\n",
    "\n",
    "    return None"
   ]
  },
  {
   "cell_type": "code",
   "execution_count": 25,
   "metadata": {},
   "outputs": [
    {
     "data": {
      "image/png": "[encoded data removed]",
      "text/plain": [
       "<Figure size 432x288 with 2 Axes>"
      ]
     },
     "metadata": {
      "needs_background": "light"
     },
     "output_type": "display_data"
    }
   ],
   "source": [
    "plot_ab_test()"
   ]
  },
  {
   "cell_type": "code",
   "execution_count": 54,
   "metadata": {
    "colab": {
     "base_uri": "https://localhost:8080/",
     "height": 50
    },
    "colab_type": "code",
    "id": "DGZ44dsjwO2f",
    "outputId": "0e9dd034-1131-47d9-a759-3334f75d97f0"
   },
   "outputs": [
    {
     "name": "stdout",
     "output_type": "stream",
     "text": [
      "levene statistic: 1.0669, levene p-value: 0.3017\n",
      "The test is significant on a confidence level of 95%\n",
      "The p-value is: 0.0000002\n"
     ]
    }
   ],
   "source": [
    "# The Levene test tests the null hypothesis that all input samples are from\n",
    "# populations with equal variances.\n",
    "levene_statistic, levene_pvalue = levene(ref, test)\n",
    "# test not significant, therefor equal variances can be assumed\n",
    "print(f\"levene statistic: {levene_statistic:.4f}, levene p-value: {levene_pvalue:.4f}\")\n",
    "\n",
    "statistic, two_sided_pvalue = ttest_ind(a=ref, b=test, axis=0, equal_var=True)\n",
    "# half the p-value as t-test is performing a two-sided test and we have a\n",
    "# one-sided hypothesis\n",
    "one_sided_pvalue = two_sided_pvalue / 2\n",
    "\n",
    "print(\n",
    "    f\"The test is significant on a confidence level of 95%\\n\"\n",
    "    f\"The p-value is: {one_sided_pvalue:.7f}\"\n",
    ")"
   ]
  },
  {
   "cell_type": "markdown",
   "metadata": {},
   "source": [
    "### Summary"
   ]
  },
  {
   "cell_type": "code",
   "execution_count": null,
   "metadata": {},
   "outputs": [],
   "source": []
  }
 ],
 "metadata": {
  "colab": {
   "collapsed_sections": [],
   "name": "stackoverflow exploration.ipynb",
   "provenance": [],
   "version": "0.3.2"
  },
  "kernelspec": {
   "display_name": "science",
   "language": "python",
   "name": "science"
  },
  "language_info": {
   "codemirror_mode": {
    "name": "ipython",
    "version": 3
   },
   "file_extension": ".py",
   "mimetype": "text/x-python",
   "name": "python",
   "nbconvert_exporter": "python",
   "pygments_lexer": "ipython3",
   "version": "3.6.0"
  }
 },
 "nbformat": 4,
 "nbformat_minor": 1
}
